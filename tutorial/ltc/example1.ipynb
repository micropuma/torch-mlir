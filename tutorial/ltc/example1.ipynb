{
 "cells": [
  {
   "cell_type": "code",
   "execution_count": 1,
   "metadata": {},
   "outputs": [
    {
     "ename": "AttributeError",
     "evalue": "module 'torch_mlir._mlir_libs._REFERENCE_LAZY_BACKEND' has no attribute '_initialize'",
     "output_type": "error",
     "traceback": [
      "\u001b[0;31m---------------------------------------------------------------------------\u001b[0m",
      "\u001b[0;31mAttributeError\u001b[0m                            Traceback (most recent call last)",
      "Cell \u001b[0;32mIn[1], line 6\u001b[0m\n\u001b[1;32m      3\u001b[0m \u001b[38;5;28;01mimport\u001b[39;00m\u001b[38;5;250m \u001b[39m\u001b[38;5;21;01mtorch_mlir\u001b[39;00m\u001b[38;5;21;01m.\u001b[39;00m\u001b[38;5;21;01m_mlir_libs\u001b[39;00m\u001b[38;5;21;01m.\u001b[39;00m\u001b[38;5;21;01m_REFERENCE_LAZY_BACKEND\u001b[39;00m\u001b[38;5;250m \u001b[39m\u001b[38;5;28;01mas\u001b[39;00m\u001b[38;5;250m \u001b[39m\u001b[38;5;21;01mlazy_backend\u001b[39;00m\n\u001b[1;32m      5\u001b[0m \u001b[38;5;66;03m# Register the example LTC backend.\u001b[39;00m\n\u001b[0;32m----> 6\u001b[0m \u001b[43mlazy_backend\u001b[49m\u001b[38;5;241;43m.\u001b[39;49m\u001b[43m_initialize\u001b[49m()\n\u001b[1;32m      8\u001b[0m device \u001b[38;5;241m=\u001b[39m \u001b[38;5;124m'\u001b[39m\u001b[38;5;124mlazy\u001b[39m\u001b[38;5;124m'\u001b[39m\n\u001b[1;32m     10\u001b[0m \u001b[38;5;66;03m# Create some tensors and perform operations.\u001b[39;00m\n",
      "\u001b[0;31mAttributeError\u001b[0m: module 'torch_mlir._mlir_libs._REFERENCE_LAZY_BACKEND' has no attribute '_initialize'"
     ]
    }
   ],
   "source": [
    "import torch\n",
    "import torch._lazy\n",
    "import torch_mlir._mlir_libs._REFERENCE_LAZY_BACKEND as lazy_backend\n",
    "\n",
    "# Register the example LTC backend.\n",
    "lazy_backend._initialize()\n",
    "\n",
    "device = 'lazy'\n",
    "\n",
    "# Create some tensors and perform operations.\n",
    "inputs = torch.tensor([[1, 2, 3, 4, 5]], dtype=torch.float32, device=device)\n",
    "outputs = torch.tanh(inputs)\n",
    "\n",
    "# Mark end of training/evaluation iteration and lower traced graph.\n",
    "torch._lazy.mark_step()\n",
    "print('Results:', outputs)\n",
    "\n",
    "# Optionally dump MLIR graph generated from LTC trace.\n",
    "computation = lazy_backend.get_latest_computation()\n",
    "if computation:\n",
    "    print(computation.debug_string())"
   ]
  },
  {
   "cell_type": "code",
   "execution_count": null,
   "metadata": {},
   "outputs": [],
   "source": []
  }
 ],
 "metadata": {
  "kernelspec": {
   "display_name": "mlir_venv",
   "language": "python",
   "name": "python3"
  },
  "language_info": {
   "codemirror_mode": {
    "name": "ipython",
    "version": 3
   },
   "file_extension": ".py",
   "mimetype": "text/x-python",
   "name": "python",
   "nbconvert_exporter": "python",
   "pygments_lexer": "ipython3",
   "version": "3.12.3"
  }
 },
 "nbformat": 4,
 "nbformat_minor": 2
}
